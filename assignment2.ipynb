{
 "cells": [
  {
   "cell_type": "code",
   "execution_count": 2,
   "id": "4c5450b6-23f6-4a9d-a200-86c8254f5777",
   "metadata": {},
   "outputs": [],
   "source": [
    "import pandas as pd"
   ]
  },
  {
   "cell_type": "code",
   "execution_count": 3,
   "id": "974949e6-a006-46e0-800b-291a4c75e3a0",
   "metadata": {},
   "outputs": [
    {
     "data": {
      "text/html": [
       "<div>\n",
       "<style scoped>\n",
       "    .dataframe tbody tr th:only-of-type {\n",
       "        vertical-align: middle;\n",
       "    }\n",
       "\n",
       "    .dataframe tbody tr th {\n",
       "        vertical-align: top;\n",
       "    }\n",
       "\n",
       "    .dataframe thead th {\n",
       "        text-align: right;\n",
       "    }\n",
       "</style>\n",
       "<table border=\"1\" class=\"dataframe\">\n",
       "  <thead>\n",
       "    <tr style=\"text-align: right;\">\n",
       "      <th></th>\n",
       "      <th>Name</th>\n",
       "      <th>Author</th>\n",
       "      <th>User Rating</th>\n",
       "      <th>Reviews</th>\n",
       "      <th>Price</th>\n",
       "      <th>Year</th>\n",
       "      <th>Genre</th>\n",
       "    </tr>\n",
       "  </thead>\n",
       "  <tbody>\n",
       "    <tr>\n",
       "      <th>0</th>\n",
       "      <td>10-Day Green Smoothie Cleanse</td>\n",
       "      <td>JJ Smith</td>\n",
       "      <td>4.7</td>\n",
       "      <td>17350</td>\n",
       "      <td>8</td>\n",
       "      <td>2016</td>\n",
       "      <td>Non Fiction</td>\n",
       "    </tr>\n",
       "    <tr>\n",
       "      <th>1</th>\n",
       "      <td>11/22/63: A Novel</td>\n",
       "      <td>Stephen King</td>\n",
       "      <td>4.6</td>\n",
       "      <td>2052</td>\n",
       "      <td>22</td>\n",
       "      <td>2011</td>\n",
       "      <td>Fiction</td>\n",
       "    </tr>\n",
       "    <tr>\n",
       "      <th>2</th>\n",
       "      <td>12 Rules for Life: An Antidote to Chaos</td>\n",
       "      <td>Jordan B. Peterson</td>\n",
       "      <td>4.7</td>\n",
       "      <td>18979</td>\n",
       "      <td>15</td>\n",
       "      <td>2018</td>\n",
       "      <td>Non Fiction</td>\n",
       "    </tr>\n",
       "    <tr>\n",
       "      <th>3</th>\n",
       "      <td>1984 (Signet Classics)</td>\n",
       "      <td>George Orwell</td>\n",
       "      <td>4.7</td>\n",
       "      <td>21424</td>\n",
       "      <td>6</td>\n",
       "      <td>2017</td>\n",
       "      <td>Fiction</td>\n",
       "    </tr>\n",
       "    <tr>\n",
       "      <th>4</th>\n",
       "      <td>5,000 Awesome Facts (About Everything!) (Natio...</td>\n",
       "      <td>National Geographic Kids</td>\n",
       "      <td>4.8</td>\n",
       "      <td>7665</td>\n",
       "      <td>12</td>\n",
       "      <td>2019</td>\n",
       "      <td>Non Fiction</td>\n",
       "    </tr>\n",
       "    <tr>\n",
       "      <th>...</th>\n",
       "      <td>...</td>\n",
       "      <td>...</td>\n",
       "      <td>...</td>\n",
       "      <td>...</td>\n",
       "      <td>...</td>\n",
       "      <td>...</td>\n",
       "      <td>...</td>\n",
       "    </tr>\n",
       "    <tr>\n",
       "      <th>545</th>\n",
       "      <td>Wrecking Ball (Diary of a Wimpy Kid Book 14)</td>\n",
       "      <td>Jeff Kinney</td>\n",
       "      <td>4.9</td>\n",
       "      <td>9413</td>\n",
       "      <td>8</td>\n",
       "      <td>2019</td>\n",
       "      <td>Fiction</td>\n",
       "    </tr>\n",
       "    <tr>\n",
       "      <th>546</th>\n",
       "      <td>You Are a Badass: How to Stop Doubting Your Gr...</td>\n",
       "      <td>Jen Sincero</td>\n",
       "      <td>4.7</td>\n",
       "      <td>14331</td>\n",
       "      <td>8</td>\n",
       "      <td>2016</td>\n",
       "      <td>Non Fiction</td>\n",
       "    </tr>\n",
       "    <tr>\n",
       "      <th>547</th>\n",
       "      <td>You Are a Badass: How to Stop Doubting Your Gr...</td>\n",
       "      <td>Jen Sincero</td>\n",
       "      <td>4.7</td>\n",
       "      <td>14331</td>\n",
       "      <td>8</td>\n",
       "      <td>2017</td>\n",
       "      <td>Non Fiction</td>\n",
       "    </tr>\n",
       "    <tr>\n",
       "      <th>548</th>\n",
       "      <td>You Are a Badass: How to Stop Doubting Your Gr...</td>\n",
       "      <td>Jen Sincero</td>\n",
       "      <td>4.7</td>\n",
       "      <td>14331</td>\n",
       "      <td>8</td>\n",
       "      <td>2018</td>\n",
       "      <td>Non Fiction</td>\n",
       "    </tr>\n",
       "    <tr>\n",
       "      <th>549</th>\n",
       "      <td>You Are a Badass: How to Stop Doubting Your Gr...</td>\n",
       "      <td>Jen Sincero</td>\n",
       "      <td>4.7</td>\n",
       "      <td>14331</td>\n",
       "      <td>8</td>\n",
       "      <td>2019</td>\n",
       "      <td>Non Fiction</td>\n",
       "    </tr>\n",
       "  </tbody>\n",
       "</table>\n",
       "<p>550 rows × 7 columns</p>\n",
       "</div>"
      ],
      "text/plain": [
       "                                                  Name  \\\n",
       "0                        10-Day Green Smoothie Cleanse   \n",
       "1                                    11/22/63: A Novel   \n",
       "2              12 Rules for Life: An Antidote to Chaos   \n",
       "3                               1984 (Signet Classics)   \n",
       "4    5,000 Awesome Facts (About Everything!) (Natio...   \n",
       "..                                                 ...   \n",
       "545       Wrecking Ball (Diary of a Wimpy Kid Book 14)   \n",
       "546  You Are a Badass: How to Stop Doubting Your Gr...   \n",
       "547  You Are a Badass: How to Stop Doubting Your Gr...   \n",
       "548  You Are a Badass: How to Stop Doubting Your Gr...   \n",
       "549  You Are a Badass: How to Stop Doubting Your Gr...   \n",
       "\n",
       "                       Author  User Rating  Reviews  Price  Year        Genre  \n",
       "0                    JJ Smith          4.7    17350      8  2016  Non Fiction  \n",
       "1                Stephen King          4.6     2052     22  2011      Fiction  \n",
       "2          Jordan B. Peterson          4.7    18979     15  2018  Non Fiction  \n",
       "3               George Orwell          4.7    21424      6  2017      Fiction  \n",
       "4    National Geographic Kids          4.8     7665     12  2019  Non Fiction  \n",
       "..                        ...          ...      ...    ...   ...          ...  \n",
       "545               Jeff Kinney          4.9     9413      8  2019      Fiction  \n",
       "546               Jen Sincero          4.7    14331      8  2016  Non Fiction  \n",
       "547               Jen Sincero          4.7    14331      8  2017  Non Fiction  \n",
       "548               Jen Sincero          4.7    14331      8  2018  Non Fiction  \n",
       "549               Jen Sincero          4.7    14331      8  2019  Non Fiction  \n",
       "\n",
       "[550 rows x 7 columns]"
      ]
     },
     "execution_count": 3,
     "metadata": {},
     "output_type": "execute_result"
    }
   ],
   "source": [
    "df=pd.read_csv(\"C:\\\\Users\\\\prahar mehta\\\\Desktop\\\\Bestseller.csv\")\n",
    "df"
   ]
  },
  {
   "cell_type": "markdown",
   "id": "c32b7787-59a4-4487-8b8c-c136323aada5",
   "metadata": {},
   "source": [
    "Quesstion 1"
   ]
  },
  {
   "cell_type": "code",
   "execution_count": 5,
   "id": "738b388c-03f1-46d1-b46c-ba0fb37c1657",
   "metadata": {},
   "outputs": [
    {
     "data": {
      "text/plain": [
       "3.3"
      ]
     },
     "execution_count": 5,
     "metadata": {},
     "output_type": "execute_result"
    }
   ],
   "source": [
    "df['User Rating'].min()"
   ]
  },
  {
   "cell_type": "markdown",
   "id": "ae2ffccb-b0f3-40dc-b95a-e24b83c90b42",
   "metadata": {},
   "source": [
    "Question 2"
   ]
  },
  {
   "cell_type": "code",
   "execution_count": 8,
   "id": "440ce785-6fa3-40c6-98a1-c3f5394e05c6",
   "metadata": {},
   "outputs": [
    {
     "data": {
      "text/plain": [
       "105"
      ]
     },
     "execution_count": 8,
     "metadata": {},
     "output_type": "execute_result"
    }
   ],
   "source": [
    "df['Price'].max()"
   ]
  },
  {
   "cell_type": "markdown",
   "id": "fdbbedd1-08d2-4123-bcbe-b10259f9abac",
   "metadata": {},
   "source": [
    "Question 3"
   ]
  },
  {
   "cell_type": "code",
   "execution_count": 21,
   "id": "3ac7e87d-1f14-4777-aa84-4e9f20fe97dc",
   "metadata": {},
   "outputs": [
    {
     "data": {
      "text/plain": [
       "4.618363636363637"
      ]
     },
     "execution_count": 21,
     "metadata": {},
     "output_type": "execute_result"
    }
   ],
   "source": [
    "user_rating=df['User Rating'].mean()\n",
    "user_rating"
   ]
  },
  {
   "cell_type": "markdown",
   "id": "284f698e-e290-4546-a57b-fcb2cfc6ca8f",
   "metadata": {},
   "source": [
    "Question 4"
   ]
  },
  {
   "cell_type": "code",
   "execution_count": 22,
   "id": "c7fc5e64-7608-446c-8f08-79296d0b6106",
   "metadata": {},
   "outputs": [
    {
     "data": {
      "text/html": [
       "<div>\n",
       "<style scoped>\n",
       "    .dataframe tbody tr th:only-of-type {\n",
       "        vertical-align: middle;\n",
       "    }\n",
       "\n",
       "    .dataframe tbody tr th {\n",
       "        vertical-align: top;\n",
       "    }\n",
       "\n",
       "    .dataframe thead th {\n",
       "        text-align: right;\n",
       "    }\n",
       "</style>\n",
       "<table border=\"1\" class=\"dataframe\">\n",
       "  <thead>\n",
       "    <tr style=\"text-align: right;\">\n",
       "      <th></th>\n",
       "      <th>Name</th>\n",
       "      <th>Author</th>\n",
       "      <th>User Rating</th>\n",
       "      <th>Reviews</th>\n",
       "      <th>Price</th>\n",
       "      <th>Year</th>\n",
       "      <th>Genre</th>\n",
       "    </tr>\n",
       "  </thead>\n",
       "  <tbody>\n",
       "    <tr>\n",
       "      <th>0</th>\n",
       "      <td>10-Day Green Smoothie Cleanse</td>\n",
       "      <td>JJ Smith</td>\n",
       "      <td>4.7</td>\n",
       "      <td>17350</td>\n",
       "      <td>8</td>\n",
       "      <td>2016</td>\n",
       "      <td>Non Fiction</td>\n",
       "    </tr>\n",
       "    <tr>\n",
       "      <th>1</th>\n",
       "      <td>11/22/63: A Novel</td>\n",
       "      <td>Stephen King</td>\n",
       "      <td>4.6</td>\n",
       "      <td>2052</td>\n",
       "      <td>22</td>\n",
       "      <td>2011</td>\n",
       "      <td>Fiction</td>\n",
       "    </tr>\n",
       "    <tr>\n",
       "      <th>2</th>\n",
       "      <td>12 Rules for Life: An Antidote to Chaos</td>\n",
       "      <td>Jordan B. Peterson</td>\n",
       "      <td>4.7</td>\n",
       "      <td>18979</td>\n",
       "      <td>15</td>\n",
       "      <td>2018</td>\n",
       "      <td>Non Fiction</td>\n",
       "    </tr>\n",
       "    <tr>\n",
       "      <th>3</th>\n",
       "      <td>1984 (Signet Classics)</td>\n",
       "      <td>George Orwell</td>\n",
       "      <td>4.7</td>\n",
       "      <td>21424</td>\n",
       "      <td>6</td>\n",
       "      <td>2017</td>\n",
       "      <td>Fiction</td>\n",
       "    </tr>\n",
       "    <tr>\n",
       "      <th>4</th>\n",
       "      <td>5,000 Awesome Facts (About Everything!) (Natio...</td>\n",
       "      <td>National Geographic Kids</td>\n",
       "      <td>4.8</td>\n",
       "      <td>7665</td>\n",
       "      <td>12</td>\n",
       "      <td>2019</td>\n",
       "      <td>Non Fiction</td>\n",
       "    </tr>\n",
       "  </tbody>\n",
       "</table>\n",
       "</div>"
      ],
      "text/plain": [
       "                                                Name  \\\n",
       "0                      10-Day Green Smoothie Cleanse   \n",
       "1                                  11/22/63: A Novel   \n",
       "2            12 Rules for Life: An Antidote to Chaos   \n",
       "3                             1984 (Signet Classics)   \n",
       "4  5,000 Awesome Facts (About Everything!) (Natio...   \n",
       "\n",
       "                     Author  User Rating  Reviews  Price  Year        Genre  \n",
       "0                  JJ Smith          4.7    17350      8  2016  Non Fiction  \n",
       "1              Stephen King          4.6     2052     22  2011      Fiction  \n",
       "2        Jordan B. Peterson          4.7    18979     15  2018  Non Fiction  \n",
       "3             George Orwell          4.7    21424      6  2017      Fiction  \n",
       "4  National Geographic Kids          4.8     7665     12  2019  Non Fiction  "
      ]
     },
     "execution_count": 22,
     "metadata": {},
     "output_type": "execute_result"
    }
   ],
   "source": [
    "df2=df.head(5)\n",
    "df2"
   ]
  },
  {
   "cell_type": "code",
   "execution_count": 23,
   "id": "675ec02f-2d0c-41f7-aa20-58b518826c32",
   "metadata": {},
   "outputs": [
    {
     "data": {
      "text/plain": [
       "4.7"
      ]
     },
     "execution_count": 23,
     "metadata": {},
     "output_type": "execute_result"
    }
   ],
   "source": [
    "user_rate=df2['User Rating'].mean()\n",
    "user_rate"
   ]
  },
  {
   "cell_type": "markdown",
   "id": "31e035f5-fdd6-4f6a-87b8-154960dd2772",
   "metadata": {},
   "source": [
    "Question 5\n"
   ]
  },
  {
   "cell_type": "code",
   "execution_count": 26,
   "id": "ef1672b0-7f31-45fe-bd0f-a69cb0ffe9b8",
   "metadata": {},
   "outputs": [
    {
     "name": "stdout",
     "output_type": "stream",
     "text": [
      "0    4.8\n",
      "Name: User Rating, dtype: float64\n"
     ]
    }
   ],
   "source": [
    "c=df['User Rating'].mode()\n",
    "print(c)"
   ]
  },
  {
   "cell_type": "markdown",
   "id": "9db078ac-a0e6-479b-b953-c3d3b6967db3",
   "metadata": {},
   "source": [
    "Question 6\n"
   ]
  },
  {
   "cell_type": "code",
   "execution_count": 28,
   "id": "c36aded7-9ff3-4319-80a3-023aaa6e2fa9",
   "metadata": {},
   "outputs": [
    {
     "data": {
      "text/plain": [
       "6574305"
      ]
     },
     "execution_count": 28,
     "metadata": {},
     "output_type": "execute_result"
    }
   ],
   "source": [
    "\n",
    "s=df['Reviews'].sum()\n",
    "s"
   ]
  },
  {
   "cell_type": "markdown",
   "id": "a5ce7ac7-418e-4e15-978d-4729438f8174",
   "metadata": {},
   "source": [
    "Question 7"
   ]
  },
  {
   "cell_type": "code",
   "execution_count": 36,
   "id": "d53370ba-eec9-46e4-95ee-855b9bbdfd0b",
   "metadata": {},
   "outputs": [
    {
     "name": "stdout",
     "output_type": "stream",
     "text": [
      "['JJ Smith' 'Stephen King' 'Jordan B. Peterson' 'George Orwell'\n",
      " 'National Geographic Kids' 'George R. R. Martin' 'Amor Towles'\n",
      " 'James Comey' 'Fredrik Backman' 'Larry Schweikart' 'Jaycee Dugard'\n",
      " \"Madeleine L'Engle\" 'Steve Harvey' 'Adult Coloring Book Designs'\n",
      " 'Blue Star Coloring' 'Coloring Books for Adults' 'Ron Chernow'\n",
      " 'Anthony Doerr' 'Veronica Roth' 'Chris Kyle' 'Khaled Hosseini'\n",
      " 'Glenn Beck' 'Neil deGrasse Tyson' 'Mark Twain' 'DK' 'Angie Grace'\n",
      " 'Ina Garten' 'Michelle Obama' 'Atul Gawande' 'Ta-Nehisi Coates'\n",
      " 'Bruce Springsteen' 'Stephenie Meyer' 'Bill Martin Jr.' 'Jeff Kinney'\n",
      " \"Sasha O'Hara\" 'David Goggins' 'Thomas Piketty' 'Suzanne Collins'\n",
      " 'Chrissy Teigen' 'Francis Chan' 'Kevin Kwan' 'Marjorie Sarnat'\n",
      " 'Abraham Verghese' 'Brené Brown' 'Malcolm Gladwell' 'Charlaine Harris'\n",
      " 'Rod Campbell' 'George W. Bush' 'Tony Hsieh'\n",
      " 'American Psychiatric Association' 'M Prefontaine' 'Zhi Gang Sha'\n",
      " 'Dav Pilkey' 'Marty Noble' 'Daniel H. Pink' 'David Zinczenko'\n",
      " 'Joel Fuhrman MD' 'Tara Westover' 'Johanna Basford' 'Ray Bradbury'\n",
      " 'J.K. Rowling' 'Bob Woodward' 'E L James' 'Michael Wolff' 'Roger Priddy'\n",
      " 'Michael Pollan' 'RH Disney' 'John Heilemann' 'George R.R. Martin'\n",
      " 'Peter A. Lillback' 'Brian Kilmeade' 'Giles Andreae' 'Rachel Hollis'\n",
      " 'Harper Lee' 'Adam Mansbach' 'Sarah Palin' 'Gillian Flynn'\n",
      " 'Pretty Simple Press' 'Jim Collins' 'Margaret Wise Brown'\n",
      " 'Sherri Duskey Rinker' 'David Perlmutter MD' 'Raina Telgemeier'\n",
      " 'Lin-Manuel Miranda' 'Phil Robertson' 'J. K. Rowling' 'Scholastic'\n",
      " 'Mitch Albom' 'Todd Burpo' 'J. D. Vance' 'Joanna Gaines' 'Dale Carnegie'\n",
      " 'Howard Stern' 'Brandon Stanton' 'Allie Brosh' 'Hopscotch Girls'\n",
      " 'James Patterson' 'Ann Whitford Paul' 'Gayle Forman' 'Eric Larson'\n",
      " 'Dan Brown' 'Christopher Paolini' 'Jennifer Smith' 'Lysa TerKeurst'\n",
      " 'Sarah Young' 'David Grann' \"Bill O'Reilly\" 'Anthony Bourdain'\n",
      " 'Rob Elliott' 'Jill Twiss' 'Sheryl Sandberg' 'Walter Isaacson'\n",
      " 'Paper Peony Press' 'Mark R. Levin' 'Keith Richards' 'Chris Cleave'\n",
      " 'Alice Schertle' 'Celeste Ng' 'John Green' 'Rob Bell' 'Robert Munsch'\n",
      " 'Admiral William H. McRaven' 'Julia Child' 'Rupi Kaur' 'Adam Gasiewski'\n",
      " 'Carol S. Dweck' 'Crispin Boyer' 'Amy Shields' 'Elie Wiesel' 'Mark Owen'\n",
      " 'Pete Souza' 'Dr. Seuss' 'Elizabeth Strout' 'Ann Voskamp'\n",
      " 'Christina Baker Kline' 'Naomi Kleinberg' 'Rick Riordan'\n",
      " 'Wizards RPG Team' 'Eben Alexander' 'American Psychological Association'\n",
      " 'Golden Books' 'Susan Cain' 'David Platt' 'Ernest Cline' 'Rush Limbaugh'\n",
      " 'Samin Nosrat' 'Tatiana de Rosnay' 'School Zone' 'Justin Halpern'\n",
      " 'Tucker Carlson' 'Ian K. Smith M.D.' 'Nathan W. Pyle' 'Gallup'\n",
      " 'Steven D. Levitt' 'Chip Heath' 'John Grisham' 'Doug Lemov' 'Mike Moreno'\n",
      " 'Timothy Ferriss' 'Gary Chapman' 'W. Cleon Skousen' 'Stephen R. Covey'\n",
      " 'Paulo Coelho' 'Edward Klein' 'Garth Stein' 'Michael Lewis'\n",
      " 'Mark Hyman M.D.' 'Bessel van der Kolk M.D.' 'Bill Simmons'\n",
      " 'Markus Zusak' 'B. J. Novak' 'Daniel James Brown' 'Thomas Campbell'\n",
      " 'Amy Ramos' 'Delegates of the Constitutional\\x85' 'Jon Stewart'\n",
      " 'Drew Daywalt' 'Pierre Dukan' 'Muriel Barbery' 'Patrick Lencioni'\n",
      " 'Don Miguel Ruiz' 'Paula Hawkins' 'Stieg Larsson' 'Sandra Boynton'\n",
      " 'Donna Tartt' 'F. Scott Fitzgerald' 'Mary Ann Shaffer' 'Margaret Atwood'\n",
      " 'Jonathan Cahn' 'Angie Thomas' 'Kathryn Stockett' 'Rebecca Skloot'\n",
      " 'Laurel Randolph' 'Randy Pausch' 'Patrick Thorpe' 'Daniel Lipkowitz'\n",
      " 'Marie Kondō' 'Stephen Kendrick' 'Chip Gaines' 'Andy Weir'\n",
      " 'James Dashner' 'The Washington Post' 'Kristin Hannah'\n",
      " 'The College Board' 'Paula McLain' 'Ree Drummond'\n",
      " 'Dr. Steven R Gundry MD' 'Deborah Diesen' 'Charles Duhigg' 'F. A. Hayek'\n",
      " 'William P. Young' 'Alex Michaelides' 'Mark Manson' 'Audrey Niffenegger'\n",
      " 'Dave Ramsey' 'Dinah Bucholz' 'Eric Carle' 'Melissa Hartwig Urban'\n",
      " 'Emily Winfield Martin' 'Craig Smith' 'David McCullough'\n",
      " 'Charles Krauthammer' 'Daniel Kahneman' 'Jay Asher' 'Jon Meacham'\n",
      " 'Greg Mortenson' 'Thug Kitchen' 'Tina Fey' 'Robert Jordan'\n",
      " 'Edward M. Kennedy' 'Laura Hillenbrand' 'Silly Bear' 'Alan Moore'\n",
      " 'Sara Gruen' 'Hillary Rodham Clinton' 'Randall Munroe' 'Adir Levy'\n",
      " 'Heidi Murkoff' 'William Davis' 'Paul Kalanithi' 'Delia Owens'\n",
      " 'Maurice Sendak' 'The Staff of The Late Show with\\x85' 'Cheryl Strayed'\n",
      " 'Ken Follett' 'Geneen Roth' 'R. J. Palacio' 'Jen Sincero']\n"
     ]
    }
   ],
   "source": [
    "authors=df['Author'].unique()\n",
    "print(authors)"
   ]
  },
  {
   "cell_type": "markdown",
   "id": "69db208a-c207-455f-a5d1-952407850631",
   "metadata": {},
   "source": [
    "Question 8"
   ]
  },
  {
   "cell_type": "code",
   "execution_count": 44,
   "id": "fe234d4f-bd4f-4a0b-ac90-7106834a77fd",
   "metadata": {},
   "outputs": [
    {
     "data": {
      "text/plain": [
       "0    Jeff Kinney\n",
       "Name: Author, dtype: object"
      ]
     },
     "execution_count": 44,
     "metadata": {},
     "output_type": "execute_result"
    }
   ],
   "source": [
    "df3=df['Author'].mode()\n",
    "df3\n",
    "\n",
    "##Jeff Kinney has written most books"
   ]
  },
  {
   "cell_type": "code",
   "execution_count": 60,
   "id": "b6e25f92-6625-485e-9f15-25e5ca67edf6",
   "metadata": {},
   "outputs": [
    {
     "name": "stdout",
     "output_type": "stream",
     "text": [
      "Name           12\n",
      "Author         12\n",
      "User Rating    12\n",
      "Reviews        12\n",
      "Price          12\n",
      "Year           12\n",
      "Genre          12\n",
      "dtype: int64\n"
     ]
    }
   ],
   "source": [
    "v=df.loc[df['Author']=='Jeff Kinney']\n",
    "print(v.count())"
   ]
  },
  {
   "cell_type": "code",
   "execution_count": 56,
   "id": "1bd46e2c-dbe1-49ad-8d13-671b346d58c6",
   "metadata": {},
   "outputs": [],
   "source": [
    "## SO JEFF KINNEY HAS WRITTEN 12 BOOKS"
   ]
  },
  {
   "cell_type": "code",
   "execution_count": null,
   "id": "f5ddd8b1-0bd8-4d41-9f69-83fab6db4a02",
   "metadata": {},
   "outputs": [],
   "source": []
  }
 ],
 "metadata": {
  "kernelspec": {
   "display_name": "Python 3 (ipykernel)",
   "language": "python",
   "name": "python3"
  },
  "language_info": {
   "codemirror_mode": {
    "name": "ipython",
    "version": 3
   },
   "file_extension": ".py",
   "mimetype": "text/x-python",
   "name": "python",
   "nbconvert_exporter": "python",
   "pygments_lexer": "ipython3",
   "version": "3.12.1"
  }
 },
 "nbformat": 4,
 "nbformat_minor": 5
}
